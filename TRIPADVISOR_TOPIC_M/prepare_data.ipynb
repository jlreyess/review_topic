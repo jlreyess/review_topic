{
 "cells": [
  {
   "cell_type": "markdown",
   "metadata": {},
   "source": [
    "## Data Preparation:\n",
    "### El siguiente Notebook, limplia y pre-procesa los datos y los textos, previo al modelado"
   ]
  },
  {
   "cell_type": "code",
   "execution_count": 1,
   "metadata": {},
   "outputs": [
    {
     "name": "stderr",
     "output_type": "stream",
     "text": [
      "[nltk_data] Downloading package stopwords to\n",
      "[nltk_data]     C:\\Users\\jlreyes\\AppData\\Roaming\\nltk_data...\n",
      "[nltk_data]   Package stopwords is already up-to-date!\n"
     ]
    }
   ],
   "source": [
    "import re as re\n",
    "import numpy as np\n",
    "import pandas as pd\n",
    "from pprint import pprint\n",
    "import gensim\n",
    "import gensim.corpora as corpora\n",
    "from gensim.utils import simple_preprocess\n",
    "from gensim.models import CoherenceModel\n",
    "import nltk\n",
    "nltk.download('stopwords')\n",
    "from nltk.corpus import stopwords\n",
    "import spacy\n",
    "import pyLDAvis\n",
    "import pyLDAvis.gensim\n",
    "import matplotlib.pyplot as plt\n",
    "import pickle\n",
    "%matplotlib inline"
   ]
  },
  {
   "cell_type": "code",
   "execution_count": 2,
   "metadata": {},
   "outputs": [],
   "source": [
    "stop_words = stopwords.words('english')\n",
    "stop_words.extend(['from', 'subject', 're', 'edu', 'use'])"
   ]
  },
  {
   "cell_type": "code",
   "execution_count": 3,
   "metadata": {},
   "outputs": [
    {
     "data": {
      "text/plain": [
       "'C:\\\\Users\\\\jlreyes\\\\Desktop\\\\MAESTRIA\\\\NPL Y TEXT MINING\\\\TAREAS FINALES\\\\TRIPADVISOR_TOPIC_M'"
      ]
     },
     "execution_count": 3,
     "metadata": {},
     "output_type": "execute_result"
    }
   ],
   "source": [
    "import os\n",
    "path = os.getcwd()\n",
    "path"
   ]
  },
  {
   "cell_type": "code",
   "execution_count": 4,
   "metadata": {},
   "outputs": [
    {
     "data": {
      "text/html": [
       "<div>\n",
       "<style scoped>\n",
       "    .dataframe tbody tr th:only-of-type {\n",
       "        vertical-align: middle;\n",
       "    }\n",
       "\n",
       "    .dataframe tbody tr th {\n",
       "        vertical-align: top;\n",
       "    }\n",
       "\n",
       "    .dataframe thead th {\n",
       "        text-align: right;\n",
       "    }\n",
       "</style>\n",
       "<table border=\"1\" class=\"dataframe\">\n",
       "  <thead>\n",
       "    <tr style=\"text-align: right;\">\n",
       "      <th></th>\n",
       "      <th>rating</th>\n",
       "      <th>review</th>\n",
       "      <th>title</th>\n",
       "    </tr>\n",
       "  </thead>\n",
       "  <tbody>\n",
       "    <tr>\n",
       "      <th>0</th>\n",
       "      <td>50</td>\n",
       "      <td>This is one of the best hotels I've ever staye...</td>\n",
       "      <td>Beautiful place, incredible staff, wonderful stay</td>\n",
       "    </tr>\n",
       "    <tr>\n",
       "      <th>1</th>\n",
       "      <td>50</td>\n",
       "      <td>Everything about this hotel was awesome. The s...</td>\n",
       "      <td>Absolutely amazing hotel, grounds, and staff.</td>\n",
       "    </tr>\n",
       "    <tr>\n",
       "      <th>2</th>\n",
       "      <td>50</td>\n",
       "      <td>Our tour group stayed here for two nights.  Th...</td>\n",
       "      <td>Beautiful</td>\n",
       "    </tr>\n",
       "    <tr>\n",
       "      <th>3</th>\n",
       "      <td>50</td>\n",
       "      <td>Excellent service at Porta Hotel Antigua. From...</td>\n",
       "      <td>Excellent service, lovely hotel</td>\n",
       "    </tr>\n",
       "    <tr>\n",
       "      <th>4</th>\n",
       "      <td>50</td>\n",
       "      <td>We found this gem and LIVED it!!! I am traveli...</td>\n",
       "      <td>Had to come back</td>\n",
       "    </tr>\n",
       "    <tr>\n",
       "      <th>...</th>\n",
       "      <td>...</td>\n",
       "      <td>...</td>\n",
       "      <td>...</td>\n",
       "    </tr>\n",
       "    <tr>\n",
       "      <th>16344</th>\n",
       "      <td>50</td>\n",
       "      <td>My husband &amp; I were there a couple of weeks ag...</td>\n",
       "      <td>Great Experience!</td>\n",
       "    </tr>\n",
       "    <tr>\n",
       "      <th>16345</th>\n",
       "      <td>30</td>\n",
       "      <td>The Hotel itself is beautiful. I was very impr...</td>\n",
       "      <td>Beautiful Hotel, Disappointed with Front Desk ...</td>\n",
       "    </tr>\n",
       "    <tr>\n",
       "      <th>16346</th>\n",
       "      <td>50</td>\n",
       "      <td>Absolutly beautiful atmosphere.  Green surroun...</td>\n",
       "      <td>The Casa Santo Domingo was Utz (Awesome)</td>\n",
       "    </tr>\n",
       "    <tr>\n",
       "      <th>16347</th>\n",
       "      <td>40</td>\n",
       "      <td>The hotel Casa Santo Domingo was one of the mo...</td>\n",
       "      <td>Casa Santo Domingo was beautiful</td>\n",
       "    </tr>\n",
       "    <tr>\n",
       "      <th>16348</th>\n",
       "      <td>50</td>\n",
       "      <td>A stunning hotel. At night the whole place is ...</td>\n",
       "      <td>Colonial monastry ruins</td>\n",
       "    </tr>\n",
       "  </tbody>\n",
       "</table>\n",
       "<p>16349 rows × 3 columns</p>\n",
       "</div>"
      ],
      "text/plain": [
       "       rating                                             review  \\\n",
       "0          50  This is one of the best hotels I've ever staye...   \n",
       "1          50  Everything about this hotel was awesome. The s...   \n",
       "2          50  Our tour group stayed here for two nights.  Th...   \n",
       "3          50  Excellent service at Porta Hotel Antigua. From...   \n",
       "4          50  We found this gem and LIVED it!!! I am traveli...   \n",
       "...       ...                                                ...   \n",
       "16344      50  My husband & I were there a couple of weeks ag...   \n",
       "16345      30  The Hotel itself is beautiful. I was very impr...   \n",
       "16346      50  Absolutly beautiful atmosphere.  Green surroun...   \n",
       "16347      40  The hotel Casa Santo Domingo was one of the mo...   \n",
       "16348      50  A stunning hotel. At night the whole place is ...   \n",
       "\n",
       "                                                   title  \n",
       "0      Beautiful place, incredible staff, wonderful stay  \n",
       "1          Absolutely amazing hotel, grounds, and staff.  \n",
       "2                                              Beautiful  \n",
       "3                        Excellent service, lovely hotel  \n",
       "4                                       Had to come back  \n",
       "...                                                  ...  \n",
       "16344                                  Great Experience!  \n",
       "16345  Beautiful Hotel, Disappointed with Front Desk ...  \n",
       "16346           The Casa Santo Domingo was Utz (Awesome)  \n",
       "16347                   Casa Santo Domingo was beautiful  \n",
       "16348                            Colonial monastry ruins  \n",
       "\n",
       "[16349 rows x 3 columns]"
      ]
     },
     "execution_count": 4,
     "metadata": {},
     "output_type": "execute_result"
    }
   ],
   "source": [
    "df = pd.read_csv('./data/raw/reviews_title.csv')\n",
    "df"
   ]
  },
  {
   "cell_type": "code",
   "execution_count": 5,
   "metadata": {},
   "outputs": [],
   "source": [
    "#from make_dataset import *"
   ]
  },
  {
   "cell_type": "code",
   "execution_count": 6,
   "metadata": {},
   "outputs": [],
   "source": [
    "from src.make_dataset import *"
   ]
  },
  {
   "cell_type": "code",
   "execution_count": 7,
   "metadata": {},
   "outputs": [
    {
     "name": "stdout",
     "output_type": "stream",
     "text": [
      "['This is one of the best hotels Ive ever stayed at with incredible staff '\n",
      " 'catering to your every need. I felt like family whilst I was there! I stayed '\n",
      " 'for 3 weeks during the pandemic and was so impressed with all the measures '\n",
      " 'the hotel have put in place to keep everyone safe and well. They give you a '\n",
      " 'box of masks, gloves and a bottle of hand sanitiser upon arrival, all the '\n",
      " 'staff wear masks and gloves and the rooms and everything else are cleaned to '\n",
      " 'the highest standard. Plus the prices theyve been offering during this time '\n",
      " 'are incredible value for money! Definitely would recommend and hope to be '\n",
      " 'back once travel reopens. Thank you so much for looking after me so well '\n",
      " 'until I could return home!']\n"
     ]
    }
   ],
   "source": [
    "data = clean(df)\n",
    "pprint(data[:1])"
   ]
  },
  {
   "cell_type": "code",
   "execution_count": 8,
   "metadata": {},
   "outputs": [],
   "source": [
    "with open(r\"./data/interim/clean_data.pkl\", \"wb\") as output_file:\n",
    "    pickle.dump(data, output_file)"
   ]
  },
  {
   "cell_type": "code",
   "execution_count": null,
   "metadata": {},
   "outputs": [],
   "source": []
  },
  {
   "cell_type": "code",
   "execution_count": null,
   "metadata": {},
   "outputs": [],
   "source": []
  }
 ],
 "metadata": {
  "kernelspec": {
   "display_name": "Python 3",
   "language": "python",
   "name": "python3"
  },
  "language_info": {
   "codemirror_mode": {
    "name": "ipython",
    "version": 3
   },
   "file_extension": ".py",
   "mimetype": "text/x-python",
   "name": "python",
   "nbconvert_exporter": "python",
   "pygments_lexer": "ipython3",
   "version": "3.8.3"
  }
 },
 "nbformat": 4,
 "nbformat_minor": 4
}
