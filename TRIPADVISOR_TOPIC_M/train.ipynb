{
 "cells": [
  {
   "cell_type": "markdown",
   "metadata": {},
   "source": [
    "## Train:\n",
    "### El siguiente proceso desarrolla el algoritmo de Topic Modeling."
   ]
  },
  {
   "cell_type": "code",
   "execution_count": 6,
   "metadata": {},
   "outputs": [
    {
     "name": "stderr",
     "output_type": "stream",
     "text": [
      "[nltk_data] Downloading package stopwords to\n",
      "[nltk_data]     C:\\Users\\jlreyes\\AppData\\Roaming\\nltk_data...\n",
      "[nltk_data]   Package stopwords is already up-to-date!\n"
     ]
    }
   ],
   "source": [
    "import re as re\n",
    "import numpy as np\n",
    "import pandas as pd\n",
    "from pprint import pprint\n",
    "import gensim\n",
    "import gensim.corpora as corpora\n",
    "from gensim.utils import simple_preprocess\n",
    "from gensim.models import CoherenceModel\n",
    "import nltk\n",
    "nltk.download('stopwords')\n",
    "from nltk.corpus import stopwords\n",
    "import spacy\n",
    "import pyLDAvis\n",
    "import pyLDAvis.gensim\n",
    "import matplotlib.pyplot as plt\n",
    "import pickle\n",
    "%matplotlib inline"
   ]
  },
  {
   "cell_type": "code",
   "execution_count": 7,
   "metadata": {},
   "outputs": [],
   "source": [
    "with open(r\"./data/interim/tokenize_corpus.pkl\", \"rb\") as input_file:\n",
    "    corpus = pickle.load(input_file)\n",
    "with open(r\"./data/interim/tokenize_id2word.pkl\", \"rb\") as input_file:\n",
    "    id2word = pickle.load(input_file)"
   ]
  },
  {
   "cell_type": "code",
   "execution_count": 8,
   "metadata": {},
   "outputs": [],
   "source": [
    "lda_model = gensim.models.ldamodel.LdaModel(corpus=corpus,\n",
    "                                           id2word=id2word,\n",
    "                                           num_topics=20, \n",
    "                                           random_state=100,\n",
    "                                           update_every=1,\n",
    "                                           chunksize=100,\n",
    "                                           passes=10,\n",
    "                                           alpha='auto',\n",
    "                                           per_word_topics=True)"
   ]
  },
  {
   "cell_type": "code",
   "execution_count": 9,
   "metadata": {},
   "outputs": [
    {
     "name": "stdout",
     "output_type": "stream",
     "text": [
      "[(0,\n",
      "  '0.165*\"quite\" + 0.101*\"site\" + 0.091*\"full\" + 0.071*\"drink\" + 0.070*\"style\" '\n",
      "  '+ 0.065*\"charm\" + 0.042*\"lounge\" + 0.034*\"prepare\" + 0.033*\"complimentary\" '\n",
      "  '+ 0.029*\"true\"'),\n",
      " (1,\n",
      "  '0.211*\"ruin\" + 0.152*\"home\" + 0.117*\"modern\" + 0.061*\"step\" + '\n",
      "  '0.059*\"market\" + 0.046*\"central_park\" + 0.042*\"fire\" + 0.036*\"remember\" + '\n",
      "  '0.028*\"buy\" + 0.026*\"already\"'),\n",
      " (2,\n",
      "  '0.359*\"old\" + 0.212*\"year\" + 0.093*\"building\" + 0.043*\"furniture\" + '\n",
      "  '0.039*\"antique\" + 0.031*\"downside\" + 0.029*\"d\" + 0.028*\"mattress\" + '\n",
      "  '0.027*\"picture\" + 0.011*\"amazingly\"'),\n",
      " (3,\n",
      "  '0.170*\"room\" + 0.056*\"night\" + 0.040*\"nice\" + 0.036*\"clean\" + 0.027*\"good\" '\n",
      "  '+ 0.025*\"also\" + 0.024*\"bed\" + 0.023*\"small\" + 0.020*\"area\" + 0.020*\"get\"'),\n",
      " (4,\n",
      "  '0.170*\"buffet\" + 0.135*\"read\" + 0.117*\"standard\" + 0.088*\"miss\" + '\n",
      "  '0.071*\"afternoon\" + 0.063*\"distance\" + 0.041*\"superb\" + 0.035*\"none\" + '\n",
      "  '0.030*\"flight\" + 0.025*\"within_walke\"'),\n",
      " (5,\n",
      "  '0.386*\"spa\" + 0.000*\"sauna\" + 0.000*\"museum\" + 0.000*\"steam\" + 0.000*\"must\" '\n",
      "  '+ 0.000*\"treatment\" + 0.000*\"atmosphere\" + 0.000*\"therapist\" + '\n",
      "  '0.000*\"rustic\" + 0.000*\"art\"'),\n",
      " (6,\n",
      "  '0.086*\"take\" + 0.066*\"give\" + 0.055*\"door\" + 0.053*\"arrive\" + 0.050*\"next\" '\n",
      "  '+ 0.044*\"leave\" + 0.040*\"hour\" + 0.037*\"sure\" + 0.034*\"be\" + 0.034*\"can\"'),\n",
      " (7,\n",
      "  '0.085*\"ask\" + 0.065*\"owner\" + 0.061*\"never\" + 0.058*\"know\" + 0.053*\"minute\" '\n",
      "  '+ 0.045*\"use\" + 0.042*\"arrange\" + 0.042*\"start\" + 0.041*\"manager\" + '\n",
      "  '0.039*\"wait\"'),\n",
      " (8,\n",
      "  '0.139*\"window\" + 0.122*\"dark\" + 0.107*\"bite\" + 0.098*\"double\" + '\n",
      "  '0.089*\"side\" + 0.059*\"entrance\" + 0.055*\"upstairs\" + 0.051*\"certainly\" + '\n",
      "  '0.043*\"maybe\" + 0.043*\"pillow\"'),\n",
      " (9,\n",
      "  '0.069*\"courtyard\" + 0.064*\"excellent\" + 0.049*\"large\" + 0.045*\"town\" + '\n",
      "  '0.035*\"property\" + 0.034*\"open\" + 0.032*\"set\" + 0.030*\"sit\" + 0.028*\"walk\" '\n",
      "  '+ 0.027*\"serve\"'),\n",
      " (10,\n",
      "  '0.266*\"fireplace\" + 0.075*\"half\" + 0.066*\"courteous\" + 0.065*\"environment\" '\n",
      "  '+ 0.057*\"pleasure\" + 0.056*\"host\" + 0.044*\"stroll\" + 0.035*\"cause\" + '\n",
      "  '0.026*\"exactly\" + 0.025*\"hospitable\"'),\n",
      " (11,\n",
      "  '0.079*\"worth\" + 0.073*\"light\" + 0.053*\"far\" + 0.050*\"huge\" + '\n",
      "  '0.045*\"pleasant\" + 0.039*\"add\" + 0.036*\"run\" + 0.036*\"option\" + '\n",
      "  '0.035*\"entire\" + 0.033*\"bath\"'),\n",
      " (12,\n",
      "  '0.060*\"make\" + 0.053*\"go\" + 0.046*\"day\" + 0.042*\"feel\" + 0.039*\"could\" + '\n",
      "  '0.032*\"even\" + 0.030*\"back\" + 0.027*\"first\" + 0.025*\"come\" + 0.024*\"see\"'),\n",
      " (13,\n",
      "  '0.132*\"book\" + 0.094*\"check\" + 0.081*\"pay\" + 0.072*\"try\" + '\n",
      "  '0.062*\"reservation\" + 0.054*\"high\" + 0.045*\"rate\" + 0.031*\"anywhere\" + '\n",
      "  '0.030*\"maintain\" + 0.029*\"cost\"'),\n",
      " (14,\n",
      "  '0.144*\"outside\" + 0.127*\"fabulous\" + 0.121*\"table\" + 0.094*\"dining\" + '\n",
      "  '0.076*\"security\" + 0.046*\"various\" + 0.043*\"gate\" + 0.039*\"cake\" + '\n",
      "  '0.024*\"ample\" + 0.022*\"apartment\"'),\n",
      " (15,\n",
      "  '0.179*\"tour\" + 0.122*\"group\" + 0.101*\"long\" + 0.093*\"last\" + '\n",
      "  '0.088*\"overall\" + 0.058*\"weekend\" + 0.050*\"actually\" + 0.040*\"recently\" + '\n",
      "  '0.031*\"event\" + 0.023*\"affordable\"'),\n",
      " (16,\n",
      "  '0.102*\"reception\" + 0.081*\"star\" + 0.080*\"incredible\" + 0.071*\"treat\" + '\n",
      "  '0.066*\"almost\" + 0.050*\"country\" + 0.042*\"reason\" + 0.033*\"mountain\" + '\n",
      "  '0.028*\"feature\" + 0.026*\"oasis\"'),\n",
      " (17,\n",
      "  '0.113*\"hotel\" + 0.073*\"stay\" + 0.047*\"staff\" + 0.039*\"great\" + '\n",
      "  '0.037*\"place\" + 0.032*\"beautiful\" + 0.024*\"breakfast\" + 0.022*\"would\" + '\n",
      "  '0.022*\"location\" + 0.021*\"friendly\"'),\n",
      " (18,\n",
      "  '0.101*\"noise\" + 0.089*\"sleep\" + 0.079*\"review\" + 0.071*\"hear\" + '\n",
      "  '0.042*\"other\" + 0.040*\"loud\" + 0.035*\"due\" + 0.034*\"fan\" + 0.033*\"mention\" '\n",
      "  '+ 0.030*\"sound\"'),\n",
      " (19,\n",
      "  '0.142*\"charge\" + 0.105*\"shuttle\" + 0.104*\"s\" + 0.081*\"cheap\" + 0.069*\"pick\" '\n",
      "  '+ 0.058*\"cold\" + 0.048*\"lock\" + 0.044*\"one\" + 0.032*\"slow\" + 0.029*\"phone\"')]\n"
     ]
    }
   ],
   "source": [
    "# Print the Keyword in the 10 topics\n",
    "pprint(lda_model.print_topics())"
   ]
  },
  {
   "cell_type": "code",
   "execution_count": 10,
   "metadata": {},
   "outputs": [],
   "source": [
    "with open(r\"./data/processed/tokenize_corpus.pkl\", \"wb\") as output_file:\n",
    "    pickle.dump(corpus, output_file)\n",
    "with open(r\"./data/processed/tokenize_id2word.pkl\", \"wb\") as output_file:\n",
    "    pickle.dump(id2word, output_file)\n",
    "with open(r\"./models/lda_model.pkl\", \"wb\") as output_file:\n",
    "    pickle.dump(lda_model, output_file)"
   ]
  },
  {
   "cell_type": "markdown",
   "metadata": {},
   "source": [
    "## Interpretación de Topicos:\n",
    "1. Topico 1:  Lugares Acogedores.\n",
    "2. Topico 2:  Cercanía a lugares coloniales.\n",
    "3. Topico 3:  Antiguedades.\n",
    "4. Topico 4:  Hotel Funcional, limpio y pequeño.\n",
    "5. Topico 5:  Alimentos incluidos.\n",
    "6. Topico 6:  Spa y Sauna.\n",
    "7. Topico 7:  Atención a la llegada al Hotel.\n",
    "8. Topico 8:  Relación con el Staff del Hotel.\n",
    "9. Topico 9:  Amenidades del Hotel.\n",
    "10. Topico 10: Hoteles con mucho esapacio."
   ]
  }
 ],
 "metadata": {
  "kernelspec": {
   "display_name": "Python 3",
   "language": "python",
   "name": "python3"
  },
  "language_info": {
   "codemirror_mode": {
    "name": "ipython",
    "version": 3
   },
   "file_extension": ".py",
   "mimetype": "text/x-python",
   "name": "python",
   "nbconvert_exporter": "python",
   "pygments_lexer": "ipython3",
   "version": "3.8.3"
  }
 },
 "nbformat": 4,
 "nbformat_minor": 4
}
